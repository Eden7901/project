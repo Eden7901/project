{
 "cells": [
  {
   "cell_type": "markdown",
   "id": "2b472d62-ccbc-47a9-9506-5fd47bf1e90e",
   "metadata": {
    "jp-MarkdownHeadingCollapsed": true
   },
   "source": [
    "<div dir=\"rtl\">\n",
    "    \n",
    "### מלאו את הקובץ ושלחו לרז\n",
    "\n",
    "   - **ניתן למלא באנגלית או עברית**\n",
    "   - **מומלץ להשתמש בהמשך באותו הקובץ להגשת הפרויקט (מיחקו את התא הזה)**\n",
    "   - **הקפידו למלא טקסט בשדות מסוג מארק-דאון וקוד בשדות מסוג קוד (אחרת ירדו לכם נקודות)**\n",
    "     \n",
    "###   מלאו את כל הסעיפים. הניקוד ינתן באופן הבא:\n",
    "- **שם הפרויקט (3-4 מילים) - 5 נקודות** \n",
    "- **שמות מלאים של כל חברי הצוות, ללא ת.ז - 5 נקודות**\n",
    "- **תיאור הפרויקט (3-4 משפטים) - 10 נקודות**\n",
    "- **קישור למקור ממנו הורדתם את הנתונים - 10 נקודות**\n",
    "- **קריאת הקובץ מהגיטהאב שלכם - 10 נקודות**\n",
    "- **הסבר על מקור הנתונים - 10 נקודות**\n",
    "- **תיאור קצר של הדאטה בעזרת הפקודות שנלמדו בקורס - 20 נקודות**\n",
    "- **שלוש שאלות ראשוניות של דברים שהיה מעניין אתכם להוציא מהקובץ - 30 נקודות**\n",
    "#### בהצלחה !\n",
    "</div>"
   ]
  },
  {
   "cell_type": "markdown",
   "id": "a275784e-8460-4468-98f0-e7755b6986f7",
   "metadata": {},
   "source": [
    "# Project Name: `correlation between education and career`\n"
   ]
  },
  {
   "cell_type": "markdown",
   "id": "6921219d-f822-482a-8986-760fb55fc518",
   "metadata": {},
   "source": [
    "### Project team members: \n",
    "- `Eden halal`\n",
    "- `Aharon sagir`\n",
    "- `Yair yahud`"
   ]
  },
  {
   "cell_type": "markdown",
   "id": "9b1b8607-f4b8-4bf0-b524-1a7e7d3200f6",
   "metadata": {},
   "source": [
    "### Project number: <insert here>\n",
    "`20`"
   ]
  },
  {
   "cell_type": "markdown",
   "id": "1935e972-e267-49ee-b637-abe0202cca05",
   "metadata": {},
   "source": [
    "### Project description: \n",
    "`הקובץ מכיל נתונים על קריירה של עובדים והצלחתם בשוק העבודה, תוך התמקדות בקשרים בין סוגי ההשכלה שהשיגו לבין הצלחתם המקצועית. המידע שבקובץ כולל פרטים על מקצועותיהם של העובדים, רמות השכר שלהם, רמות ההשכלה (תיכון, אקדמאי, תארים נוספים), גילם, מגדרם, תחום העיסוק ועוד`"
   ]
  },
  {
   "cell_type": "markdown",
   "id": "b043a0ae-6e42-4120-8997-5724eb01acf1",
   "metadata": {},
   "source": [
    "### Link to the data: \n",
    "[our link](https://www.kaggle.com/datasets/mahad049/job-placement-dataset/data)\n"
   ]
  },
  {
   "cell_type": "markdown",
   "id": "5a50c015-5907-45c3-8aef-bacaf1c00c6a",
   "metadata": {},
   "source": [
    "### Explain the data source:\n",
    "`it was generated using data from real-world education and career trends.`"
   ]
  },
  {
   "cell_type": "markdown",
   "id": "a66dd24f-ed31-42b8-b6fe-425a4a87e535",
   "metadata": {},
   "source": [
    "----"
   ]
  },
  {
   "cell_type": "markdown",
   "id": "40924565-a0c6-4f91-b4c1-57816a816cbe",
   "metadata": {},
   "source": [
    "#### Read you file from Github:"
   ]
  },
  {
   "cell_type": "code",
   "execution_count": 2,
   "id": "5dbc7e4b-6bbf-40f0-825d-30b1eb4b6ac6",
   "metadata": {},
   "outputs": [
    {
     "data": {
      "text/html": [
       "<div>\n",
       "<style scoped>\n",
       "    .dataframe tbody tr th:only-of-type {\n",
       "        vertical-align: middle;\n",
       "    }\n",
       "\n",
       "    .dataframe tbody tr th {\n",
       "        vertical-align: top;\n",
       "    }\n",
       "\n",
       "    .dataframe thead th {\n",
       "        text-align: right;\n",
       "    }\n",
       "</style>\n",
       "<table border=\"1\" class=\"dataframe\">\n",
       "  <thead>\n",
       "    <tr style=\"text-align: right;\">\n",
       "      <th></th>\n",
       "      <th>id</th>\n",
       "      <th>name</th>\n",
       "      <th>gender</th>\n",
       "      <th>age</th>\n",
       "      <th>degree</th>\n",
       "      <th>stream</th>\n",
       "      <th>college_name</th>\n",
       "      <th>placement_status</th>\n",
       "      <th>salary</th>\n",
       "      <th>gpa</th>\n",
       "      <th>years_of_experience</th>\n",
       "    </tr>\n",
       "  </thead>\n",
       "  <tbody>\n",
       "    <tr>\n",
       "      <th>0</th>\n",
       "      <td>1</td>\n",
       "      <td>John Doe</td>\n",
       "      <td>Male</td>\n",
       "      <td>25</td>\n",
       "      <td>Bachelor's</td>\n",
       "      <td>Computer Science</td>\n",
       "      <td>Harvard University</td>\n",
       "      <td>Placed</td>\n",
       "      <td>60000</td>\n",
       "      <td>3.7</td>\n",
       "      <td>2.0</td>\n",
       "    </tr>\n",
       "    <tr>\n",
       "      <th>1</th>\n",
       "      <td>2</td>\n",
       "      <td>Jane Smith</td>\n",
       "      <td>Female</td>\n",
       "      <td>24</td>\n",
       "      <td>Bachelor's</td>\n",
       "      <td>Electrical Engineering</td>\n",
       "      <td>Massachusetts Institute of Technology</td>\n",
       "      <td>Placed</td>\n",
       "      <td>65000</td>\n",
       "      <td>3.6</td>\n",
       "      <td>1.0</td>\n",
       "    </tr>\n",
       "    <tr>\n",
       "      <th>2</th>\n",
       "      <td>3</td>\n",
       "      <td>Michael Johnson</td>\n",
       "      <td>Male</td>\n",
       "      <td>26</td>\n",
       "      <td>Bachelor's</td>\n",
       "      <td>Mechanical Engineering</td>\n",
       "      <td>Stanford University</td>\n",
       "      <td>Placed</td>\n",
       "      <td>58000</td>\n",
       "      <td>3.8</td>\n",
       "      <td>3.0</td>\n",
       "    </tr>\n",
       "    <tr>\n",
       "      <th>3</th>\n",
       "      <td>4</td>\n",
       "      <td>Emily Davis</td>\n",
       "      <td>Female</td>\n",
       "      <td>23</td>\n",
       "      <td>Bachelor's</td>\n",
       "      <td>Information Technology</td>\n",
       "      <td>Yale University</td>\n",
       "      <td>Not Placed</td>\n",
       "      <td>0</td>\n",
       "      <td>3.5</td>\n",
       "      <td>2.0</td>\n",
       "    </tr>\n",
       "    <tr>\n",
       "      <th>4</th>\n",
       "      <td>5</td>\n",
       "      <td>David Brown</td>\n",
       "      <td>Male</td>\n",
       "      <td>24</td>\n",
       "      <td>Bachelor's</td>\n",
       "      <td>Computer Science</td>\n",
       "      <td>Princeton University</td>\n",
       "      <td>Placed</td>\n",
       "      <td>62000</td>\n",
       "      <td>3.9</td>\n",
       "      <td>2.0</td>\n",
       "    </tr>\n",
       "    <tr>\n",
       "      <th>...</th>\n",
       "      <td>...</td>\n",
       "      <td>...</td>\n",
       "      <td>...</td>\n",
       "      <td>...</td>\n",
       "      <td>...</td>\n",
       "      <td>...</td>\n",
       "      <td>...</td>\n",
       "      <td>...</td>\n",
       "      <td>...</td>\n",
       "      <td>...</td>\n",
       "      <td>...</td>\n",
       "    </tr>\n",
       "    <tr>\n",
       "      <th>695</th>\n",
       "      <td>696</td>\n",
       "      <td>Lucas Taylor</td>\n",
       "      <td>Male</td>\n",
       "      <td>23</td>\n",
       "      <td>Bachelor's</td>\n",
       "      <td>Computer Science</td>\n",
       "      <td>University of Washington</td>\n",
       "      <td>Placed</td>\n",
       "      <td>67000</td>\n",
       "      <td>3.8</td>\n",
       "      <td>3.0</td>\n",
       "    </tr>\n",
       "    <tr>\n",
       "      <th>696</th>\n",
       "      <td>697</td>\n",
       "      <td>Emma Martinez</td>\n",
       "      <td>Female</td>\n",
       "      <td>26</td>\n",
       "      <td>Bachelor's</td>\n",
       "      <td>Electronics and Communication</td>\n",
       "      <td>University of California--Berkeley</td>\n",
       "      <td>Placed</td>\n",
       "      <td>66000</td>\n",
       "      <td>3.9</td>\n",
       "      <td>3.0</td>\n",
       "    </tr>\n",
       "    <tr>\n",
       "      <th>697</th>\n",
       "      <td>698</td>\n",
       "      <td>Aiden Davis</td>\n",
       "      <td>Male</td>\n",
       "      <td>24</td>\n",
       "      <td>Bachelor's</td>\n",
       "      <td>Computer Science</td>\n",
       "      <td>University of Illinois--Urbana-Champaign</td>\n",
       "      <td>Placed</td>\n",
       "      <td>65000</td>\n",
       "      <td>3.8</td>\n",
       "      <td>3.0</td>\n",
       "    </tr>\n",
       "    <tr>\n",
       "      <th>698</th>\n",
       "      <td>699</td>\n",
       "      <td>Mia Wilson</td>\n",
       "      <td>Female</td>\n",
       "      <td>23</td>\n",
       "      <td>Bachelor's</td>\n",
       "      <td>Electrical Engineering</td>\n",
       "      <td>University of Colorado--Boulder</td>\n",
       "      <td>Placed</td>\n",
       "      <td>66000</td>\n",
       "      <td>3.7</td>\n",
       "      <td>2.0</td>\n",
       "    </tr>\n",
       "    <tr>\n",
       "      <th>699</th>\n",
       "      <td>700</td>\n",
       "      <td>Jack Garcia</td>\n",
       "      <td>Male</td>\n",
       "      <td>26</td>\n",
       "      <td>Bachelor's</td>\n",
       "      <td>Information Technology</td>\n",
       "      <td>University of North Carolina--Chapel Hill</td>\n",
       "      <td>Not Placed</td>\n",
       "      <td>0</td>\n",
       "      <td>3.6</td>\n",
       "      <td>1.0</td>\n",
       "    </tr>\n",
       "  </tbody>\n",
       "</table>\n",
       "<p>700 rows × 11 columns</p>\n",
       "</div>"
      ],
      "text/plain": [
       "      id             name  gender  age      degree  \\\n",
       "0      1         John Doe    Male   25  Bachelor's   \n",
       "1      2       Jane Smith  Female   24  Bachelor's   \n",
       "2      3  Michael Johnson    Male   26  Bachelor's   \n",
       "3      4      Emily Davis  Female   23  Bachelor's   \n",
       "4      5      David Brown    Male   24  Bachelor's   \n",
       "..   ...              ...     ...  ...         ...   \n",
       "695  696     Lucas Taylor    Male   23  Bachelor's   \n",
       "696  697    Emma Martinez  Female   26  Bachelor's   \n",
       "697  698      Aiden Davis    Male   24  Bachelor's   \n",
       "698  699       Mia Wilson  Female   23  Bachelor's   \n",
       "699  700      Jack Garcia    Male   26  Bachelor's   \n",
       "\n",
       "                            stream                               college_name  \\\n",
       "0                 Computer Science                         Harvard University   \n",
       "1           Electrical Engineering      Massachusetts Institute of Technology   \n",
       "2           Mechanical Engineering                        Stanford University   \n",
       "3           Information Technology                            Yale University   \n",
       "4                 Computer Science                       Princeton University   \n",
       "..                             ...                                        ...   \n",
       "695               Computer Science                   University of Washington   \n",
       "696  Electronics and Communication         University of California--Berkeley   \n",
       "697               Computer Science   University of Illinois--Urbana-Champaign   \n",
       "698         Electrical Engineering            University of Colorado--Boulder   \n",
       "699         Information Technology  University of North Carolina--Chapel Hill   \n",
       "\n",
       "    placement_status  salary  gpa  years_of_experience  \n",
       "0             Placed   60000  3.7                  2.0  \n",
       "1             Placed   65000  3.6                  1.0  \n",
       "2             Placed   58000  3.8                  3.0  \n",
       "3         Not Placed       0  3.5                  2.0  \n",
       "4             Placed   62000  3.9                  2.0  \n",
       "..               ...     ...  ...                  ...  \n",
       "695           Placed   67000  3.8                  3.0  \n",
       "696           Placed   66000  3.9                  3.0  \n",
       "697           Placed   65000  3.8                  3.0  \n",
       "698           Placed   66000  3.7                  2.0  \n",
       "699       Not Placed       0  3.6                  1.0  \n",
       "\n",
       "[700 rows x 11 columns]"
      ]
     },
     "execution_count": 2,
     "metadata": {},
     "output_type": "execute_result"
    }
   ],
   "source": [
    "import pandas as pd\n",
    "\n",
    "url = 'https://raw.githubusercontent.com/aharon429/correlation-between-education-and-career/refs/heads/main/job_placement.csv'\n",
    "\n",
    "success_df = pd.read_csv(url , encoding = 'ISO-8859-8')\n",
    "\n",
    "success_df\n"
   ]
  },
  {
   "cell_type": "code",
   "execution_count": null,
   "id": "10ba557c-f1b4-45cf-8771-2764ad1a02de",
   "metadata": {},
   "outputs": [],
   "source": []
  },
  {
   "cell_type": "markdown",
   "id": "f2a78930-bf7b-4d50-902b-c35a91b19ab0",
   "metadata": {},
   "source": [
    "#### Describe the data\n",
    "* How many rows?\n",
    "* How many columns?\n",
    "* How many numeric columns? (not including numerical identifiers - numbers that uniquely define the row)\n",
    "* How many categorical columns? (not including string identifiers -  values that uniquely define the row)"
   ]
  },
  {
   "cell_type": "code",
   "execution_count": 12,
   "id": "318da777-a227-4189-a7ac-164c840e8027",
   "metadata": {},
   "outputs": [],
   "source": [
    "rows = 700"
   ]
  },
  {
   "cell_type": "code",
   "execution_count": 13,
   "id": "c92f0aeb-7103-4225-8b74-f4545328a145",
   "metadata": {},
   "outputs": [],
   "source": [
    "columns = 11"
   ]
  },
  {
   "cell_type": "code",
   "execution_count": 14,
   "id": "bb13e178-dbc0-45b8-8a4d-848c44234e03",
   "metadata": {},
   "outputs": [],
   "source": [
    "numeric_rows = 5\n",
    "categorical_columns = 5\n"
   ]
  },
  {
   "cell_type": "markdown",
   "id": "67cbfe4e-1a60-4460-8cc1-e98ea9813fa8",
   "metadata": {},
   "source": [
    "#### Write three questions you would like to answer using this data"
   ]
  },
  {
   "cell_type": "markdown",
   "id": "4470f031-7d4f-4814-8f36-549be16c2eea",
   "metadata": {},
   "source": [
    "1. `?האם השכלה גבוהה משפיעה על ההצלחה בשוק העבודה`"
   ]
  },
  {
   "cell_type": "markdown",
   "id": "3f76efd8-a896-4758-a774-811abd08e9ab",
   "metadata": {},
   "source": [
    "2. `?האם ציוני בית ספר מעידים על הסיכויים של האדם להצליח בעתיד`"
   ]
  },
  {
   "cell_type": "markdown",
   "id": "b7972801-dab3-4405-9ac9-c025162d858d",
   "metadata": {},
   "source": [
    "3. ` ?האם ללמוד במוסד יותר 'נחשב' משפיע על המשכורת ההתחלתית שלו`"
   ]
  },
  {
   "cell_type": "code",
   "execution_count": null,
   "id": "83834c34-3883-4a98-8d9d-7f26e7f09f2e",
   "metadata": {},
   "outputs": [],
   "source": []
  },
  {
   "cell_type": "code",
   "execution_count": null,
   "id": "c241c7ac-513e-4862-8012-665d29598a78",
   "metadata": {},
   "outputs": [],
   "source": []
  },
  {
   "cell_type": "markdown",
   "id": "dc311a43-0865-4458-acb9-e5bb00769069",
   "metadata": {},
   "source": [
    "<div style=\"background-color: #f0f0f0; padding: 10px; border-radius: 5px;\">\n",
    "  <span style=\"color: red;\"><strong>— Do not proceed beyond this point. This is for the next steps, do not fill in —</strong></span>\n",
    "</div>\n"
   ]
  },
  {
   "cell_type": "markdown",
   "id": "37abd2f7-3901-41d5-bfb3-e30d1b79dd34",
   "metadata": {},
   "source": [
    "---\n",
    "### <span style=\"color:green\"> Observation 1:</span>\n",
    "\n",
    ">\n",
    "> \n",
    ">\n",
    "> \n",
    "\n",
    "\n",
    "---"
   ]
  },
  {
   "cell_type": "code",
   "execution_count": null,
   "id": "786aab2d-6e34-4d95-937d-1244062116de",
   "metadata": {},
   "outputs": [],
   "source": []
  },
  {
   "cell_type": "code",
   "execution_count": null,
   "id": "4b6a7501-4d00-44bd-a819-685c14950060",
   "metadata": {},
   "outputs": [],
   "source": []
  },
  {
   "cell_type": "code",
   "execution_count": null,
   "id": "8dca1901-eaaf-4c56-b2a0-c071dfa05a44",
   "metadata": {},
   "outputs": [],
   "source": []
  },
  {
   "cell_type": "markdown",
   "id": "dabb806f-f18c-419a-b144-1e60ec5ce800",
   "metadata": {},
   "source": [
    "---\n",
    "### <span style=\"color:green\"> Observation 2:</span>\n",
    "\n",
    ">\n",
    "> \n",
    ">\n",
    "> \n",
    "\n",
    "\n",
    "---"
   ]
  },
  {
   "cell_type": "code",
   "execution_count": null,
   "id": "84301767-29e7-4c06-8ffa-e13d6a814d03",
   "metadata": {},
   "outputs": [],
   "source": []
  },
  {
   "cell_type": "code",
   "execution_count": null,
   "id": "6df3dfb1-5b21-4ad9-a524-b2978a2480d8",
   "metadata": {},
   "outputs": [],
   "source": []
  },
  {
   "cell_type": "code",
   "execution_count": null,
   "id": "34a9ee94-3b65-4b0a-a7f4-11a0ef4e700b",
   "metadata": {},
   "outputs": [],
   "source": []
  },
  {
   "cell_type": "markdown",
   "id": "d6c0aad1-ba36-496c-911d-6047a95c2b2d",
   "metadata": {},
   "source": [
    "---\n",
    "### <span style=\"color:green\"> Observation 3:</span>\n",
    "\n",
    ">\n",
    "> \n",
    ">\n",
    "> \n",
    "\n",
    "\n",
    "---"
   ]
  },
  {
   "cell_type": "code",
   "execution_count": null,
   "id": "d95ccb40-2e2b-470b-9c21-14cac0ff759c",
   "metadata": {},
   "outputs": [],
   "source": []
  },
  {
   "cell_type": "code",
   "execution_count": null,
   "id": "eb14a9f4-f33d-43f2-9e33-713254c2b122",
   "metadata": {},
   "outputs": [],
   "source": []
  },
  {
   "cell_type": "code",
   "execution_count": null,
   "id": "35655047-ecaa-4051-bbcd-c870764e80d0",
   "metadata": {},
   "outputs": [],
   "source": []
  },
  {
   "cell_type": "markdown",
   "id": "9b3f378b-0c61-4edf-9b36-a1cf55c3a5b5",
   "metadata": {},
   "source": [
    "---\n",
    "### <span style=\"color:green\"> Summary</span>\n",
    "\n",
    "> Anything you'd like to say - your conclusions, summary, how hard you worked etc.\n",
    "> \n",
    ">    \n",
    ">   \n",
    "   \n",
    "\n",
    "---"
   ]
  },
  {
   "cell_type": "code",
   "execution_count": null,
   "id": "9364ddf3-4fcb-4d4e-9ff6-0ab697e01e94",
   "metadata": {},
   "outputs": [],
   "source": []
  }
 ],
 "metadata": {
  "kernelspec": {
   "display_name": "Python 3 (ipykernel)",
   "language": "python",
   "name": "python3"
  },
  "language_info": {
   "codemirror_mode": {
    "name": "ipython",
    "version": 3
   },
   "file_extension": ".py",
   "mimetype": "text/x-python",
   "name": "python",
   "nbconvert_exporter": "python",
   "pygments_lexer": "ipython3",
   "version": "3.12.7"
  }
 },
 "nbformat": 4,
 "nbformat_minor": 5
}
